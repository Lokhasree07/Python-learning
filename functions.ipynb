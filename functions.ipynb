{
 "cells": [
  {
   "cell_type": "code",
   "execution_count": 2,
   "id": "1258ab8d",
   "metadata": {},
   "outputs": [
    {
     "name": "stdout",
     "output_type": "stream",
     "text": [
      "Hello From My Function!\n"
     ]
    }
   ],
   "source": [
    "def my_function():\n",
    "    print(\"Hello From My Function!\")\n",
    "my_function()"
   ]
  },
  {
   "cell_type": "code",
   "execution_count": 7,
   "id": "44ce5dd6",
   "metadata": {},
   "outputs": [
    {
     "name": "stdout",
     "output_type": "stream",
     "text": [
      "Hello harini my function,i wish you welcome\n"
     ]
    }
   ],
   "source": [
    "def my_func_with_args(username,greetings):\n",
    "    print(\"Hello %s my function,i wish you %s\" %(username,greetings))\n",
    "my_func_with_args(\"harini\",\"welcome\")"
   ]
  },
  {
   "cell_type": "code",
   "execution_count": 11,
   "id": "6ade1de9",
   "metadata": {},
   "outputs": [
    {
     "data": {
      "text/plain": [
       "9"
      ]
     },
     "execution_count": 11,
     "metadata": {},
     "output_type": "execute_result"
    }
   ],
   "source": [
    "def sum_of_twonos(a,b):\n",
    "    return a+b\n",
    "sum_of_twonos(3,6)"
   ]
  },
  {
   "cell_type": "code",
   "execution_count": 13,
   "id": "ce5e3a7c",
   "metadata": {},
   "outputs": [
    {
     "data": {
      "text/plain": [
       "-3"
      ]
     },
     "execution_count": 13,
     "metadata": {},
     "output_type": "execute_result"
    }
   ],
   "source": [
    "def diff_of_twonos(a,b):\n",
    "    return a - b\n",
    "diff_of_twonos(2,5)"
   ]
  },
  {
   "cell_type": "code",
   "execution_count": 14,
   "id": "1c87dda0",
   "metadata": {},
   "outputs": [
    {
     "data": {
      "text/plain": [
       "24"
      ]
     },
     "execution_count": 14,
     "metadata": {},
     "output_type": "execute_result"
    }
   ],
   "source": [
    "def prod_of_threenos(a,b,c):\n",
    "    return a*b*c\n",
    "prod_of_threenos(2,3,4)"
   ]
  },
  {
   "cell_type": "code",
   "execution_count": 20,
   "id": "e6c1b49e",
   "metadata": {},
   "outputs": [
    {
     "name": "stdout",
     "output_type": "stream",
     "text": [
      "More organized code is a benefits of functions!\n",
      "More readable code is a benefits of functions!\n",
      "Easier code reuse is a benefits of functions!\n",
      "Allowing programmers to share and connect code together is a benefits of functions!\n"
     ]
    }
   ],
   "source": [
    "def list_benefits():\n",
    "    return \"More organized code\", \"More readable code\", \"Easier code reuse\", \"Allowing programmers to share and connect code together\"\n",
    "def build_sentence(benefit):\n",
    "    return \"%s is a benefits of functions!\" %(benefit)\n",
    "def name_the_benefits_of_function():\n",
    "    list_of_benefits=list_benefits()\n",
    "    for benefit in list_of_benefits:\n",
    "        print(build_sentence(benefit))\n",
    "name_the_benefits_of_function()"
   ]
  },
  {
   "cell_type": "code",
   "execution_count": 21,
   "id": "d5278951",
   "metadata": {},
   "outputs": [
    {
     "data": {
      "text/plain": [
       "3"
      ]
     },
     "execution_count": 21,
     "metadata": {},
     "output_type": "execute_result"
    }
   ],
   "source": [
    "def max_of_twonos(a,b):\n",
    "    if(a>b):\n",
    "        return a\n",
    "    else:\n",
    "        return b\n",
    "max_of_twonos(2,3)"
   ]
  },
  {
   "cell_type": "code",
   "execution_count": 31,
   "id": "c9a14e74",
   "metadata": {},
   "outputs": [
    {
     "name": "stdout",
     "output_type": "stream",
     "text": [
      "20\n"
     ]
    }
   ],
   "source": [
    "def sum(numbers):\n",
    "    total = 0\n",
    "    for x in numbers:\n",
    "        total += x\n",
    "    return total\n",
    "print(sum((8,2,3,0,7)))"
   ]
  },
  {
   "cell_type": "code",
   "execution_count": 35,
   "id": "e939e148",
   "metadata": {},
   "outputs": [
    {
     "name": "stdout",
     "output_type": "stream",
     "text": [
      "-336\n"
     ]
    }
   ],
   "source": [
    "def mul(numbers):\n",
    "    total = 1\n",
    "    for x in numbers:\n",
    "        total*=x\n",
    "    return total\n",
    "print(mul((8, 2, 3, -1, 7)))"
   ]
  },
  {
   "cell_type": "code",
   "execution_count": 4,
   "id": "417d1f63",
   "metadata": {},
   "outputs": [
    {
     "name": "stdout",
     "output_type": "stream",
     "text": [
      "Original string: reverse\n",
      "Reverse string: esrever\n"
     ]
    },
    {
     "data": {
      "text/plain": [
       "'esreveR'"
      ]
     },
     "execution_count": 4,
     "metadata": {},
     "output_type": "execute_result"
    }
   ],
   "source": [
    "def reverse(str1):\n",
    "    return str1[::-1]\n",
    "print(\"Original string:\",str1)\n",
    "print(\"Reverse string:\",reverse(str1))\n",
    "reverse(str1=\"Reverse\")"
   ]
  },
  {
   "cell_type": "code",
   "execution_count": 16,
   "id": "b5e86bb4",
   "metadata": {},
   "outputs": [
    {
     "name": "stdout",
     "output_type": "stream",
     "text": [
      "Enter a number:10\n"
     ]
    },
    {
     "data": {
      "text/plain": [
       "3628800"
      ]
     },
     "execution_count": 16,
     "metadata": {},
     "output_type": "execute_result"
    }
   ],
   "source": [
    "def factorial(n):\n",
    "    if(n==0):\n",
    "        return 1\n",
    "    else:\n",
    "        return n*factorial(n-1)\n",
    "n=int(input(\"Enter a number:\"))\n",
    "factorial(10)"
   ]
  },
  {
   "cell_type": "code",
   "execution_count": 18,
   "id": "767d780b",
   "metadata": {},
   "outputs": [
    {
     "name": "stdout",
     "output_type": "stream",
     "text": [
      "11 is not in given range\n"
     ]
    }
   ],
   "source": [
    "def test_range(n):\n",
    "    if n in range(2,10):\n",
    "        print(\"%s is in given range\" %n)\n",
    "    else:\n",
    "        print(\"%s is not in given range\" %n)\n",
    "test_range(11)"
   ]
  },
  {
   "cell_type": "code",
   "execution_count": 23,
   "id": "2b969ebc",
   "metadata": {},
   "outputs": [
    {
     "name": "stdout",
     "output_type": "stream",
     "text": [
      "The original string: The quick Brow Fox\n",
      "The number of lowercase character: 12\n",
      "The number of uppercase characters: 3\n"
     ]
    }
   ],
   "source": [
    "def string_check(a):\n",
    "    uppercase = 0\n",
    "    lowercase = 0\n",
    "    for letter in a:\n",
    "        if letter.islower():\n",
    "            lowercase+=1\n",
    "        elif letter.isupper():\n",
    "            uppercase+=1\n",
    "        else:\n",
    "            pass\n",
    "    print(\"The original string:\",a)\n",
    "    print(\"The number of lowercase character:\",lowercase)\n",
    "    print(\"The number of uppercase characters:\",uppercase)\n",
    "string_check(\"The quick Brow Fox\")\n",
    "\n",
    "    "
   ]
  },
  {
   "cell_type": "code",
   "execution_count": 25,
   "id": "9d1d8de9",
   "metadata": {},
   "outputs": [
    {
     "data": {
      "text/plain": [
       "[1, 2, 3, 4, 5]"
      ]
     },
     "execution_count": 25,
     "metadata": {},
     "output_type": "execute_result"
    }
   ],
   "source": [
    "def unique_list(l):\n",
    "    x = []\n",
    "    for a in l:\n",
    "        if a not in x:\n",
    "            x.append(a)\n",
    "    return x\n",
    "unique_list([1,2,3,3,3,3,4,5])"
   ]
  },
  {
   "cell_type": "code",
   "execution_count": 27,
   "id": "4c43312c",
   "metadata": {},
   "outputs": [
    {
     "name": "stdout",
     "output_type": "stream",
     "text": [
      "True\n"
     ]
    }
   ],
   "source": [
    "def is_prime(n):\n",
    "    if(n==0):\n",
    "        return False\n",
    "    elif(n==1):\n",
    "        return True\n",
    "    else:\n",
    "        for x in range(2,n):\n",
    "            if(n%x==0):\n",
    "                return False\n",
    "        return True\n",
    "print(is_prime(11))"
   ]
  },
  {
   "cell_type": "code",
   "execution_count": 28,
   "id": "71335eb3",
   "metadata": {},
   "outputs": [
    {
     "name": "stdout",
     "output_type": "stream",
     "text": [
      "[2, 4, 6, 8]\n"
     ]
    }
   ],
   "source": [
    "def even_list(l):\n",
    "    x = []\n",
    "    for a in l:\n",
    "        if (a%2==0):\n",
    "            x.append(a)\n",
    "        else:\n",
    "            pass\n",
    "    print(list(x))\n",
    "even_list([1,2,3,4,5,6,7,8,9])"
   ]
  },
  {
   "cell_type": "code",
   "execution_count": 3,
   "id": "16697a93",
   "metadata": {},
   "outputs": [
    {
     "data": {
      "text/plain": [
       "True"
      ]
     },
     "execution_count": 3,
     "metadata": {},
     "output_type": "execute_result"
    }
   ],
   "source": [
    "def perfect_number(n):\n",
    "    sum=0\n",
    "    for x in range(1,n):\n",
    "        if(n%x==0):\n",
    "            sum=sum+x\n",
    "    return sum == n\n",
    "perfect_number(8)\n",
    "perfect_number(6)"
   ]
  },
  {
   "cell_type": "code",
   "execution_count": 5,
   "id": "8b016bd9",
   "metadata": {},
   "outputs": [
    {
     "name": "stdout",
     "output_type": "stream",
     "text": [
      "sky is not a palindrome\n"
     ]
    }
   ],
   "source": [
    "def is_palindrome(string):\n",
    "    a = string[::-1]\n",
    "    if a == string:\n",
    "        print(string,\"is a palindrome\")\n",
    "    else:\n",
    "        print(string,\"is not a palindrome\")\n",
    "is_palindrome(\"sky\")"
   ]
  },
  {
   "cell_type": "code",
   "execution_count": 10,
   "id": "b8f72c8b",
   "metadata": {},
   "outputs": [
    {
     "name": "stdout",
     "output_type": "stream",
     "text": [
      "[1, 4, 9, 16, 25, 36, 49, 64, 81, 100, 121, 144, 169, 196, 225, 256, 289, 324, 361, 400, 441, 484, 529, 576, 625, 676, 729, 784, 841, 900, 961, 1024, 1089, 1156, 1225, 1296, 1369, 1444, 1521, 1600, 1681, 1764, 1849, 1936, 2025, 2116, 2209, 2304, 2401, 2500]\n"
     ]
    }
   ],
   "source": [
    "def printvalues():\n",
    "    l = list()\n",
    "    for i in range(1,51):\n",
    "        l.append(i**2)\n",
    "    print(l)\n",
    "    \n",
    "printvalues()"
   ]
  },
  {
   "cell_type": "code",
   "execution_count": null,
   "id": "e750026d",
   "metadata": {},
   "outputs": [],
   "source": []
  }
 ],
 "metadata": {
  "kernelspec": {
   "display_name": "Python 3 (ipykernel)",
   "language": "python",
   "name": "python3"
  },
  "language_info": {
   "codemirror_mode": {
    "name": "ipython",
    "version": 3
   },
   "file_extension": ".py",
   "mimetype": "text/x-python",
   "name": "python",
   "nbconvert_exporter": "python",
   "pygments_lexer": "ipython3",
   "version": "3.9.12"
  }
 },
 "nbformat": 4,
 "nbformat_minor": 5
}
