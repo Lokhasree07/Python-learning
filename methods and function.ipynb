{
 "cells": [
  {
   "cell_type": "code",
   "execution_count": 2,
   "id": "e5e7c0eb",
   "metadata": {},
   "outputs": [],
   "source": [
    "def lesser_of_two_evens(a,b):\n",
    "    if(a%2==0 and b%2==0):\n",
    "        return min(a,b)\n",
    "    else:\n",
    "        return max(a,b)"
   ]
  },
  {
   "cell_type": "code",
   "execution_count": 3,
   "id": "4756f381",
   "metadata": {},
   "outputs": [
    {
     "data": {
      "text/plain": [
       "2"
      ]
     },
     "execution_count": 3,
     "metadata": {},
     "output_type": "execute_result"
    }
   ],
   "source": [
    "lesser_of_two_evens(2,4)"
   ]
  },
  {
   "cell_type": "code",
   "execution_count": 4,
   "id": "26d2bd6b",
   "metadata": {},
   "outputs": [
    {
     "data": {
      "text/plain": [
       "5"
      ]
     },
     "execution_count": 4,
     "metadata": {},
     "output_type": "execute_result"
    }
   ],
   "source": [
    "lesser_of_two_evens(2,5)"
   ]
  },
  {
   "cell_type": "code",
   "execution_count": 5,
   "id": "3bb728b6",
   "metadata": {},
   "outputs": [],
   "source": [
    "def animal_cracker(text):\n",
    "    wordlist = text.split()\n",
    "    return wordlist[0][0] == wordlist[1][0]"
   ]
  },
  {
   "cell_type": "code",
   "execution_count": 6,
   "id": "618706d5",
   "metadata": {},
   "outputs": [
    {
     "data": {
      "text/plain": [
       "True"
      ]
     },
     "execution_count": 6,
     "metadata": {},
     "output_type": "execute_result"
    }
   ],
   "source": [
    "animal_cracker('sky sets')"
   ]
  },
  {
   "cell_type": "code",
   "execution_count": 7,
   "id": "1f1815d0",
   "metadata": {},
   "outputs": [
    {
     "data": {
      "text/plain": [
       "False"
      ]
     },
     "execution_count": 7,
     "metadata": {},
     "output_type": "execute_result"
    }
   ],
   "source": [
    "animal_cracker('sky blue')"
   ]
  },
  {
   "cell_type": "code",
   "execution_count": 11,
   "id": "29aafdab",
   "metadata": {},
   "outputs": [],
   "source": [
    "def makes_twenty(a,b):\n",
    "    if(a+b==20 or a==20 or b==20):\n",
    "        return True\n",
    "    else:\n",
    "        return False"
   ]
  },
  {
   "cell_type": "code",
   "execution_count": 12,
   "id": "99df7d5d",
   "metadata": {},
   "outputs": [
    {
     "data": {
      "text/plain": [
       "True"
      ]
     },
     "execution_count": 12,
     "metadata": {},
     "output_type": "execute_result"
    }
   ],
   "source": [
    "makes_twenty(20,10)"
   ]
  },
  {
   "cell_type": "code",
   "execution_count": 13,
   "id": "2f1fc0e3",
   "metadata": {},
   "outputs": [
    {
     "data": {
      "text/plain": [
       "True"
      ]
     },
     "execution_count": 13,
     "metadata": {},
     "output_type": "execute_result"
    }
   ],
   "source": [
    "makes_twenty(12,8)"
   ]
  },
  {
   "cell_type": "code",
   "execution_count": 14,
   "id": "ef8616f8",
   "metadata": {},
   "outputs": [
    {
     "data": {
      "text/plain": [
       "False"
      ]
     },
     "execution_count": 14,
     "metadata": {},
     "output_type": "execute_result"
    }
   ],
   "source": [
    "makes_twenty(3,2)"
   ]
  },
  {
   "cell_type": "code",
   "execution_count": 25,
   "id": "42265545",
   "metadata": {},
   "outputs": [],
   "source": [
    "def macdonald(name):\n",
    "    if len(name)>3:\n",
    "        return name[:3].capitalize() + name[3:].capitalize()\n",
    "    else:\n",
    "        return 'too short'"
   ]
  },
  {
   "cell_type": "code",
   "execution_count": 26,
   "id": "66e7774e",
   "metadata": {},
   "outputs": [
    {
     "data": {
      "text/plain": [
       "'LokSabha'"
      ]
     },
     "execution_count": 26,
     "metadata": {},
     "output_type": "execute_result"
    }
   ],
   "source": [
    "macdonald('loksabha')"
   ]
  },
  {
   "cell_type": "code",
   "execution_count": 50,
   "id": "7abb786a",
   "metadata": {},
   "outputs": [],
   "source": [
    "def upp_low(name):\n",
    "    first_letter = name[0]\n",
    "    inbtw = name[1:3]\n",
    "    fourth_letter = name[3]\n",
    "    remain = name[4:]\n",
    "    \n",
    "    return first_letter.upper() + inbtw + fourth_letter.upper() + remain"
   ]
  },
  {
   "cell_type": "code",
   "execution_count": 51,
   "id": "e3602a00",
   "metadata": {},
   "outputs": [
    {
     "data": {
      "text/plain": [
       "'MacDonald'"
      ]
     },
     "execution_count": 51,
     "metadata": {},
     "output_type": "execute_result"
    }
   ],
   "source": [
    "upp_low('macdonald')"
   ]
  },
  {
   "cell_type": "code",
   "execution_count": 48,
   "id": "19d4f823",
   "metadata": {},
   "outputs": [],
   "source": [
    "def master_yoga(text):\n",
    "    return ' '.join(text.split()[::-1])"
   ]
  },
  {
   "cell_type": "code",
   "execution_count": 42,
   "id": "77a34921",
   "metadata": {},
   "outputs": [
    {
     "data": {
      "text/plain": [
       "'home am I'"
      ]
     },
     "execution_count": 42,
     "metadata": {},
     "output_type": "execute_result"
    }
   ],
   "source": [
    "master_yoga('I am home')"
   ]
  },
  {
   "cell_type": "code",
   "execution_count": 43,
   "id": "41b69927",
   "metadata": {},
   "outputs": [],
   "source": [
    "def check_range(n):\n",
    "    return(abs(100-n)<=10 or abs(200-n)<=10)"
   ]
  },
  {
   "cell_type": "code",
   "execution_count": 44,
   "id": "e5cccc54",
   "metadata": {},
   "outputs": [
    {
     "data": {
      "text/plain": [
       "True"
      ]
     },
     "execution_count": 44,
     "metadata": {},
     "output_type": "execute_result"
    }
   ],
   "source": [
    "check_range(97)"
   ]
  },
  {
   "cell_type": "code",
   "execution_count": 45,
   "id": "4a9e5047",
   "metadata": {},
   "outputs": [
    {
     "data": {
      "text/plain": [
       "True"
      ]
     },
     "execution_count": 45,
     "metadata": {},
     "output_type": "execute_result"
    }
   ],
   "source": [
    "check_range(105)"
   ]
  },
  {
   "cell_type": "code",
   "execution_count": 46,
   "id": "6698e917",
   "metadata": {},
   "outputs": [
    {
     "data": {
      "text/plain": [
       "True"
      ]
     },
     "execution_count": 46,
     "metadata": {},
     "output_type": "execute_result"
    }
   ],
   "source": [
    "check_range(207)"
   ]
  },
  {
   "cell_type": "code",
   "execution_count": 47,
   "id": "d65ffcc9",
   "metadata": {},
   "outputs": [
    {
     "data": {
      "text/plain": [
       "False"
      ]
     },
     "execution_count": 47,
     "metadata": {},
     "output_type": "execute_result"
    }
   ],
   "source": [
    "check_range(250)"
   ]
  },
  {
   "cell_type": "code",
   "execution_count": 53,
   "id": "8d2944f5",
   "metadata": {},
   "outputs": [],
   "source": [
    "def has_33(nums):\n",
    "    for i in range(0,len(nums)-1):\n",
    "        if nums[i] == 3 and nums[i+1] == 3:\n",
    "            return True\n",
    "    return False"
   ]
  },
  {
   "cell_type": "code",
   "execution_count": 54,
   "id": "30f1384d",
   "metadata": {},
   "outputs": [
    {
     "data": {
      "text/plain": [
       "True"
      ]
     },
     "execution_count": 54,
     "metadata": {},
     "output_type": "execute_result"
    }
   ],
   "source": [
    "has_33([1,3,3])"
   ]
  },
  {
   "cell_type": "code",
   "execution_count": 55,
   "id": "0d596aca",
   "metadata": {},
   "outputs": [
    {
     "data": {
      "text/plain": [
       "False"
      ]
     },
     "execution_count": 55,
     "metadata": {},
     "output_type": "execute_result"
    }
   ],
   "source": [
    "has_33([1,2,3])"
   ]
  },
  {
   "cell_type": "code",
   "execution_count": 57,
   "id": "6946c457",
   "metadata": {},
   "outputs": [],
   "source": [
    "def char_string(text):\n",
    "    result = ''\n",
    "    for char in text:\n",
    "        result+=char*3\n",
    "    return result"
   ]
  },
  {
   "cell_type": "code",
   "execution_count": 58,
   "id": "f7d64e0e",
   "metadata": {},
   "outputs": [
    {
     "data": {
      "text/plain": [
       "'hhheeellllllooo'"
      ]
     },
     "execution_count": 58,
     "metadata": {},
     "output_type": "execute_result"
    }
   ],
   "source": [
    "char_string(\"hello\")"
   ]
  },
  {
   "cell_type": "code",
   "execution_count": 68,
   "id": "68f20922",
   "metadata": {},
   "outputs": [],
   "source": [
    "def check_int(a,b,c):\n",
    "    result = a+b+c\n",
    "    for i in range(1,12):\n",
    "        if(result<=21):\n",
    "            return result\n",
    "        elif(result>=21 and result==11):\n",
    "            return result-10\n",
    "        else:\n",
    "            return 'Bust'"
   ]
  },
  {
   "cell_type": "code",
   "execution_count": 69,
   "id": "1780734c",
   "metadata": {},
   "outputs": [
    {
     "data": {
      "text/plain": [
       "18"
      ]
     },
     "execution_count": 69,
     "metadata": {},
     "output_type": "execute_result"
    }
   ],
   "source": [
    "check_int(5,6,7)"
   ]
  },
  {
   "cell_type": "code",
   "execution_count": 70,
   "id": "4118b891",
   "metadata": {},
   "outputs": [
    {
     "data": {
      "text/plain": [
       "'Bust'"
      ]
     },
     "execution_count": 70,
     "metadata": {},
     "output_type": "execute_result"
    }
   ],
   "source": [
    "check_int(9,9,9)"
   ]
  },
  {
   "cell_type": "code",
   "execution_count": 71,
   "id": "f9a0a7ba",
   "metadata": {},
   "outputs": [
    {
     "data": {
      "text/plain": [
       "'Bust'"
      ]
     },
     "execution_count": 71,
     "metadata": {},
     "output_type": "execute_result"
    }
   ],
   "source": [
    "check_int(9,9,11)"
   ]
  },
  {
   "cell_type": "code",
   "execution_count": 72,
   "id": "33f0f2b3",
   "metadata": {},
   "outputs": [
    {
     "data": {
      "text/plain": [
       "'Bust'"
      ]
     },
     "execution_count": 72,
     "metadata": {},
     "output_type": "execute_result"
    }
   ],
   "source": [
    "check_int(23,45,67)"
   ]
  },
  {
   "cell_type": "code",
   "execution_count": 73,
   "id": "9ad9aaec",
   "metadata": {},
   "outputs": [],
   "source": [
    "def summer_69(arr):\n",
    "    total = 0\n",
    "    add = True\n",
    "    for num in arr:\n",
    "        while add:\n",
    "            if num != 6:\n",
    "                total += num\n",
    "                break\n",
    "            else:\n",
    "                add = False\n",
    "        while not add:\n",
    "            if num != 9:\n",
    "                break\n",
    "            else:\n",
    "                add = True\n",
    "                break\n",
    "    return total"
   ]
  },
  {
   "cell_type": "code",
   "execution_count": 75,
   "id": "6d4209a5",
   "metadata": {},
   "outputs": [
    {
     "data": {
      "text/plain": [
       "9"
      ]
     },
     "execution_count": 75,
     "metadata": {},
     "output_type": "execute_result"
    }
   ],
   "source": [
    "summer_69((1,3,5))"
   ]
  },
  {
   "cell_type": "code",
   "execution_count": 76,
   "id": "f58b49cf",
   "metadata": {},
   "outputs": [
    {
     "data": {
      "text/plain": [
       "6"
      ]
     },
     "execution_count": 76,
     "metadata": {},
     "output_type": "execute_result"
    }
   ],
   "source": [
    "summer_69((1,2,3,6,7,8,9))"
   ]
  },
  {
   "cell_type": "code",
   "execution_count": 77,
   "id": "cafcb952",
   "metadata": {},
   "outputs": [],
   "source": [
    "def spy_game(nums):\n",
    "    code = [0,0,7,'x']\n",
    "    for num in nums:\n",
    "        if num == code[0]:\n",
    "            code.pop(0)\n",
    "    return len(code)==1 "
   ]
  },
  {
   "cell_type": "code",
   "execution_count": 78,
   "id": "7b4dc2b2",
   "metadata": {},
   "outputs": [
    {
     "data": {
      "text/plain": [
       "True"
      ]
     },
     "execution_count": 78,
     "metadata": {},
     "output_type": "execute_result"
    }
   ],
   "source": [
    "spy_game([1,2,4,0,0,7,5])"
   ]
  },
  {
   "cell_type": "code",
   "execution_count": 79,
   "id": "49d24bed",
   "metadata": {},
   "outputs": [
    {
     "data": {
      "text/plain": [
       "False"
      ]
     },
     "execution_count": 79,
     "metadata": {},
     "output_type": "execute_result"
    }
   ],
   "source": [
    "spy_game([1,7,2,0,4,5,0])"
   ]
  },
  {
   "cell_type": "code",
   "execution_count": 82,
   "id": "e852a156",
   "metadata": {},
   "outputs": [],
   "source": [
    "def count_primes(nums):\n",
    "    primes = [2]\n",
    "    x = 3\n",
    "    if nums < 2:\n",
    "        return 0\n",
    "    while x <= nums:\n",
    "        for y in primes:\n",
    "            if(x%y==0):\n",
    "                x+=2\n",
    "                break\n",
    "        else:\n",
    "            primes.append(x)\n",
    "    print(primes)\n",
    "    return len(primes)"
   ]
  },
  {
   "cell_type": "code",
   "execution_count": 83,
   "id": "cee96d7a",
   "metadata": {},
   "outputs": [
    {
     "name": "stdout",
     "output_type": "stream",
     "text": [
      "[2, 3, 5, 7, 11, 13, 17, 19, 23, 29, 31, 37, 41, 43, 47, 53, 59, 61, 67, 71, 73, 79, 83, 89, 97]\n"
     ]
    },
    {
     "data": {
      "text/plain": [
       "25"
      ]
     },
     "execution_count": 83,
     "metadata": {},
     "output_type": "execute_result"
    }
   ],
   "source": [
    "count_primes(100)"
   ]
  },
  {
   "cell_type": "code",
   "execution_count": 84,
   "id": "506fb65c",
   "metadata": {},
   "outputs": [],
   "source": [
    "def print_big(letter):\n",
    "    patterns = {1:'  *  ',2:' * * ',3:'*   *',4:'*****',5:'**** ',6:'   * ',7:' *   ',8:'*   * ',9:'*    '}\n",
    "    alphabet = {'A':[1,2,4,3,3],'B':[5,3,5,3,5],'C':[4,9,9,9,4],'D':[5,3,3,3,5],'E':[4,9,4,9,4]}\n",
    "    for pattern in alphabet[letter.upper()]:\n",
    "        print(patterns[pattern])"
   ]
  },
  {
   "cell_type": "code",
   "execution_count": 85,
   "id": "17729a76",
   "metadata": {},
   "outputs": [
    {
     "name": "stdout",
     "output_type": "stream",
     "text": [
      "  *  \n",
      " * * \n",
      "*****\n",
      "*   *\n",
      "*   *\n"
     ]
    }
   ],
   "source": [
    "print_big('a')"
   ]
  },
  {
   "cell_type": "code",
   "execution_count": 86,
   "id": "9dd7db4c",
   "metadata": {},
   "outputs": [
    {
     "name": "stdout",
     "output_type": "stream",
     "text": [
      "**** \n",
      "*   *\n",
      "**** \n",
      "*   *\n",
      "**** \n"
     ]
    }
   ],
   "source": [
    "print_big('b')"
   ]
  },
  {
   "cell_type": "code",
   "execution_count": 88,
   "id": "74e0d76d",
   "metadata": {},
   "outputs": [
    {
     "name": "stdout",
     "output_type": "stream",
     "text": [
      "*****\n",
      "*    \n",
      "*    \n",
      "*    \n",
      "*****\n"
     ]
    }
   ],
   "source": [
    "print_big('c')"
   ]
  },
  {
   "cell_type": "code",
   "execution_count": 89,
   "id": "a3bb9fd1",
   "metadata": {},
   "outputs": [
    {
     "name": "stdout",
     "output_type": "stream",
     "text": [
      "**** \n",
      "*   *\n",
      "*   *\n",
      "*   *\n",
      "**** \n"
     ]
    }
   ],
   "source": [
    "print_big('d')"
   ]
  },
  {
   "cell_type": "code",
   "execution_count": 90,
   "id": "7a2c4f2e",
   "metadata": {},
   "outputs": [
    {
     "name": "stdout",
     "output_type": "stream",
     "text": [
      "*****\n",
      "*    \n",
      "*****\n",
      "*    \n",
      "*****\n"
     ]
    }
   ],
   "source": [
    "print_big('e')"
   ]
  },
  {
   "cell_type": "code",
   "execution_count": 91,
   "id": "3ed494af",
   "metadata": {},
   "outputs": [],
   "source": [
    "#Write a function that computes the volume of a sphere given its radius.\n",
    "def vol(rad):\n",
    "    volume = 4/3*3.14*rad**3\n",
    "    return volume"
   ]
  },
  {
   "cell_type": "code",
   "execution_count": 92,
   "id": "0d746722",
   "metadata": {},
   "outputs": [
    {
     "data": {
      "text/plain": [
       "33.49333333333333"
      ]
     },
     "execution_count": 92,
     "metadata": {},
     "output_type": "execute_result"
    }
   ],
   "source": [
    "vol(2)"
   ]
  },
  {
   "cell_type": "code",
   "execution_count": 93,
   "id": "894dd323",
   "metadata": {},
   "outputs": [
    {
     "data": {
      "text/plain": [
       "113.03999999999999"
      ]
     },
     "execution_count": 93,
     "metadata": {},
     "output_type": "execute_result"
    }
   ],
   "source": [
    "vol(3)"
   ]
  },
  {
   "cell_type": "code",
   "execution_count": 100,
   "id": "e1f741b3",
   "metadata": {},
   "outputs": [],
   "source": [
    "#Write a function that checks whether a number is in a given range (inclusive of high and low)\n",
    "def ran_check(num,low,high):\n",
    "    if num>low and num<high:\n",
    "        print('%s is between %s and %s' %(num,low,high))"
   ]
  },
  {
   "cell_type": "code",
   "execution_count": 101,
   "id": "1a807d85",
   "metadata": {},
   "outputs": [
    {
     "name": "stdout",
     "output_type": "stream",
     "text": [
      "5 is between 2 and 7\n"
     ]
    }
   ],
   "source": [
    "ran_check(5,2,7)"
   ]
  },
  {
   "cell_type": "code",
   "execution_count": 102,
   "id": "56906cf2",
   "metadata": {},
   "outputs": [
    {
     "name": "stdout",
     "output_type": "stream",
     "text": [
      "3 is between 2 and 8\n"
     ]
    }
   ],
   "source": [
    "ran_check(3,2,8)"
   ]
  },
  {
   "cell_type": "code",
   "execution_count": 103,
   "id": "014f3b2c",
   "metadata": {},
   "outputs": [],
   "source": [
    "#Write a function that checks whether a number is in a given range (inclusive of high and low)\n",
    "def ran_check(num,low,high):\n",
    "    if num>low and num<high:\n",
    "        return True\n",
    "    else:\n",
    "        return False"
   ]
  },
  {
   "cell_type": "code",
   "execution_count": 104,
   "id": "bebc6ff8",
   "metadata": {},
   "outputs": [
    {
     "data": {
      "text/plain": [
       "True"
      ]
     },
     "execution_count": 104,
     "metadata": {},
     "output_type": "execute_result"
    }
   ],
   "source": [
    "ran_check(6,3,8)"
   ]
  },
  {
   "cell_type": "code",
   "execution_count": 105,
   "id": "9839d60d",
   "metadata": {},
   "outputs": [
    {
     "data": {
      "text/plain": [
       "False"
      ]
     },
     "execution_count": 105,
     "metadata": {},
     "output_type": "execute_result"
    }
   ],
   "source": [
    "ran_check(2,3,4)"
   ]
  },
  {
   "cell_type": "code",
   "execution_count": 120,
   "id": "cf676c3b",
   "metadata": {},
   "outputs": [],
   "source": [
    "#Write a Python function that accepts a string and calculates the number of upper case letters and lower case letters.\n",
    "def check_case():\n",
    "    uppercase = 0\n",
    "    lowercase = 0\n",
    "    s = input(\"Enter string:\")\n",
    "    for item in s.split():\n",
    "        if s.isupper():\n",
    "            uppercase +=1\n",
    "        else:\n",
    "            lowercase +=1\n",
    "    print(\"No of uppercase letters:\",uppercase)\n",
    "    print(\"No of lowercase letters:\",lowercase)"
   ]
  },
  {
   "cell_type": "code",
   "execution_count": 121,
   "id": "b4c4e87f",
   "metadata": {},
   "outputs": [
    {
     "name": "stdout",
     "output_type": "stream",
     "text": [
      "Enter string:Hello World\n",
      "No of uppercase letters: 0\n",
      "No of lowercase letters: 2\n"
     ]
    }
   ],
   "source": [
    "check_case()"
   ]
  },
  {
   "cell_type": "code",
   "execution_count": 122,
   "id": "c3cf6bc2",
   "metadata": {},
   "outputs": [],
   "source": [
    "#Write a Python function that takes a list and returns a new list with unique elements of the first list.\n",
    "def unique_list(lst):\n",
    "    return set(lst)"
   ]
  },
  {
   "cell_type": "code",
   "execution_count": 123,
   "id": "1e3ffd20",
   "metadata": {},
   "outputs": [
    {
     "data": {
      "text/plain": [
       "{1, 2, 3, 4, 5, 6}"
      ]
     },
     "execution_count": 123,
     "metadata": {},
     "output_type": "execute_result"
    }
   ],
   "source": [
    "unique_list([1,2,2,3,3,4,4,4,5,6])"
   ]
  },
  {
   "cell_type": "code",
   "execution_count": 9,
   "id": "b7e5f982",
   "metadata": {},
   "outputs": [],
   "source": [
    "def multiply(numbers):\n",
    "    result = 1\n",
    "    for x in numbers:\n",
    "        result *=x\n",
    "    return result"
   ]
  },
  {
   "cell_type": "code",
   "execution_count": 10,
   "id": "8d1a4a7d",
   "metadata": {},
   "outputs": [
    {
     "data": {
      "text/plain": [
       "24"
      ]
     },
     "execution_count": 10,
     "metadata": {},
     "output_type": "execute_result"
    }
   ],
   "source": [
    "multiply([1,2,3,4])"
   ]
  },
  {
   "cell_type": "code",
   "execution_count": 11,
   "id": "6df98b2c",
   "metadata": {},
   "outputs": [
    {
     "data": {
      "text/plain": [
       "-24"
      ]
     },
     "execution_count": 11,
     "metadata": {},
     "output_type": "execute_result"
    }
   ],
   "source": [
    "multiply([1,-2,3,4])"
   ]
  },
  {
   "cell_type": "code",
   "execution_count": 27,
   "id": "f308f71e",
   "metadata": {},
   "outputs": [],
   "source": [
    "#Write a Python function that checks whether a word or phrase is palindrome or not.\n",
    "def check_palindrome(s):\n",
    "    for item in s.split():\n",
    "        if s[::-1] == s:\n",
    "            return True\n",
    "        else:\n",
    "            return False"
   ]
  },
  {
   "cell_type": "code",
   "execution_count": 28,
   "id": "6dbbffde",
   "metadata": {},
   "outputs": [
    {
     "data": {
      "text/plain": [
       "False"
      ]
     },
     "execution_count": 28,
     "metadata": {},
     "output_type": "execute_result"
    }
   ],
   "source": [
    "check_palindrome(\"reverse\")"
   ]
  },
  {
   "cell_type": "code",
   "execution_count": 29,
   "id": "75b678b2",
   "metadata": {},
   "outputs": [
    {
     "data": {
      "text/plain": [
       "True"
      ]
     },
     "execution_count": 29,
     "metadata": {},
     "output_type": "execute_result"
    }
   ],
   "source": [
    "check_palindrome('malayalam')"
   ]
  },
  {
   "cell_type": "code",
   "execution_count": 31,
   "id": "df95621d",
   "metadata": {},
   "outputs": [
    {
     "data": {
      "text/plain": [
       "True"
      ]
     },
     "execution_count": 31,
     "metadata": {},
     "output_type": "execute_result"
    }
   ],
   "source": [
    "check_palindrome('helleh')"
   ]
  },
  {
   "cell_type": "code",
   "execution_count": 45,
   "id": "9891ded8",
   "metadata": {},
   "outputs": [],
   "source": [
    "import string\n",
    "\n",
    "def ispangram(str1, alphabet=string.ascii_lowercase): \n",
    "    # Create a set of the alphabet\n",
    "    alphaset = set(alphabet)  \n",
    "\n",
    "    # Grab all unique letters in the string as a set\n",
    "    str2 = set(str1)\n",
    "    \n",
    "    # Now check that the alpahbet set is same as string set\n",
    "    return str2 == alphaset"
   ]
  },
  {
   "cell_type": "code",
   "execution_count": 46,
   "id": "aecc4720",
   "metadata": {},
   "outputs": [
    {
     "data": {
      "text/plain": [
       "False"
      ]
     },
     "execution_count": 46,
     "metadata": {},
     "output_type": "execute_result"
    }
   ],
   "source": [
    "ispangram(\"The quick brown fox jumps over the lazy dog\")"
   ]
  },
  {
   "cell_type": "code",
   "execution_count": null,
   "id": "e356f510",
   "metadata": {},
   "outputs": [],
   "source": []
  }
 ],
 "metadata": {
  "kernelspec": {
   "display_name": "Python 3 (ipykernel)",
   "language": "python",
   "name": "python3"
  },
  "language_info": {
   "codemirror_mode": {
    "name": "ipython",
    "version": 3
   },
   "file_extension": ".py",
   "mimetype": "text/x-python",
   "name": "python",
   "nbconvert_exporter": "python",
   "pygments_lexer": "ipython3",
   "version": "3.9.12"
  }
 },
 "nbformat": 4,
 "nbformat_minor": 5
}
