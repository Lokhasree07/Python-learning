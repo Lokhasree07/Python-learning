{
 "cells": [
  {
   "cell_type": "code",
   "execution_count": 10,
   "id": "d5c88303",
   "metadata": {},
   "outputs": [],
   "source": [
    "expenses=[2200,2350,2600,2130,2190]"
   ]
  },
  {
   "cell_type": "code",
   "execution_count": 11,
   "id": "82c9f0e1",
   "metadata": {},
   "outputs": [
    {
     "data": {
      "text/plain": [
       "[2200, 2350, 2600, 2130, 2190]"
      ]
     },
     "execution_count": 11,
     "metadata": {},
     "output_type": "execute_result"
    }
   ],
   "source": [
    "expenses"
   ]
  },
  {
   "cell_type": "code",
   "execution_count": 14,
   "id": "0718612d",
   "metadata": {},
   "outputs": [],
   "source": [
    "extra =expenses[1] - expenses[0]"
   ]
  },
  {
   "cell_type": "code",
   "execution_count": 15,
   "id": "4b40833c",
   "metadata": {},
   "outputs": [
    {
     "data": {
      "text/plain": [
       "150"
      ]
     },
     "execution_count": 15,
     "metadata": {},
     "output_type": "execute_result"
    }
   ],
   "source": [
    "extra"
   ]
  },
  {
   "cell_type": "code",
   "execution_count": 16,
   "id": "4639e033",
   "metadata": {},
   "outputs": [],
   "source": [
    "total=expenses[0] + expenses[1] + expenses[2]"
   ]
  },
  {
   "cell_type": "code",
   "execution_count": 17,
   "id": "4b2730d1",
   "metadata": {},
   "outputs": [
    {
     "data": {
      "text/plain": [
       "7150"
      ]
     },
     "execution_count": 17,
     "metadata": {},
     "output_type": "execute_result"
    }
   ],
   "source": [
    "total"
   ]
  },
  {
   "cell_type": "code",
   "execution_count": 19,
   "id": "e1d40adb",
   "metadata": {},
   "outputs": [
    {
     "data": {
      "text/plain": [
       "False"
      ]
     },
     "execution_count": 19,
     "metadata": {},
     "output_type": "execute_result"
    }
   ],
   "source": [
    "2000 in expenses"
   ]
  },
  {
   "cell_type": "code",
   "execution_count": 21,
   "id": "109931a9",
   "metadata": {},
   "outputs": [],
   "source": [
    "expenses.insert(5,1980)"
   ]
  },
  {
   "cell_type": "code",
   "execution_count": 22,
   "id": "961771fd",
   "metadata": {},
   "outputs": [
    {
     "data": {
      "text/plain": [
       "[2200, 2350, 2600, 2130, 2190, 1980]"
      ]
     },
     "execution_count": 22,
     "metadata": {},
     "output_type": "execute_result"
    }
   ],
   "source": [
    "expenses"
   ]
  },
  {
   "cell_type": "code",
   "execution_count": 23,
   "id": "1084aef0",
   "metadata": {},
   "outputs": [],
   "source": [
    "April = expenses[3] - 200"
   ]
  },
  {
   "cell_type": "code",
   "execution_count": 24,
   "id": "bdbceb3d",
   "metadata": {},
   "outputs": [
    {
     "data": {
      "text/plain": [
       "1930"
      ]
     },
     "execution_count": 24,
     "metadata": {},
     "output_type": "execute_result"
    }
   ],
   "source": [
    "April"
   ]
  },
  {
   "cell_type": "code",
   "execution_count": 25,
   "id": "43122666",
   "metadata": {},
   "outputs": [],
   "source": [
    "expenses[3] = April"
   ]
  },
  {
   "cell_type": "code",
   "execution_count": 26,
   "id": "447cfb65",
   "metadata": {},
   "outputs": [
    {
     "data": {
      "text/plain": [
       "[2200, 2350, 2600, 1930, 2190, 1980]"
      ]
     },
     "execution_count": 26,
     "metadata": {},
     "output_type": "execute_result"
    }
   ],
   "source": [
    "expenses"
   ]
  },
  {
   "cell_type": "code",
   "execution_count": 27,
   "id": "d31ebfe7",
   "metadata": {},
   "outputs": [],
   "source": [
    "heros = ['spider man','thor','hulk','iron man','captain america']"
   ]
  },
  {
   "cell_type": "code",
   "execution_count": 28,
   "id": "f4c9dcad",
   "metadata": {},
   "outputs": [
    {
     "data": {
      "text/plain": [
       "['spider man', 'thor', 'hulk', 'iron man', 'captain america']"
      ]
     },
     "execution_count": 28,
     "metadata": {},
     "output_type": "execute_result"
    }
   ],
   "source": [
    "heros"
   ]
  },
  {
   "cell_type": "code",
   "execution_count": 29,
   "id": "7d5576f1",
   "metadata": {},
   "outputs": [
    {
     "name": "stdout",
     "output_type": "stream",
     "text": [
      "5\n"
     ]
    }
   ],
   "source": [
    "print(len(heros))"
   ]
  },
  {
   "cell_type": "code",
   "execution_count": 32,
   "id": "d3e0f878",
   "metadata": {},
   "outputs": [],
   "source": [
    "heros.insert(5,'black panther')"
   ]
  },
  {
   "cell_type": "code",
   "execution_count": 33,
   "id": "43068b77",
   "metadata": {},
   "outputs": [
    {
     "data": {
      "text/plain": [
       "['spider man',\n",
       " 'thor',\n",
       " 'hulk',\n",
       " 'iron man',\n",
       " 'captain america',\n",
       " 'black panther',\n",
       " 'black panther']"
      ]
     },
     "execution_count": 33,
     "metadata": {},
     "output_type": "execute_result"
    }
   ],
   "source": [
    "heros"
   ]
  },
  {
   "cell_type": "code",
   "execution_count": 34,
   "id": "7d099717",
   "metadata": {},
   "outputs": [
    {
     "data": {
      "text/plain": [
       "'black panther'"
      ]
     },
     "execution_count": 34,
     "metadata": {},
     "output_type": "execute_result"
    }
   ],
   "source": [
    "heros.pop()"
   ]
  },
  {
   "cell_type": "code",
   "execution_count": 35,
   "id": "9f5031da",
   "metadata": {},
   "outputs": [
    {
     "data": {
      "text/plain": [
       "['spider man', 'thor', 'hulk', 'iron man', 'captain america', 'black panther']"
      ]
     },
     "execution_count": 35,
     "metadata": {},
     "output_type": "execute_result"
    }
   ],
   "source": [
    "heros"
   ]
  },
  {
   "cell_type": "code",
   "execution_count": 36,
   "id": "cc8e6e1b",
   "metadata": {},
   "outputs": [
    {
     "data": {
      "text/plain": [
       "'black panther'"
      ]
     },
     "execution_count": 36,
     "metadata": {},
     "output_type": "execute_result"
    }
   ],
   "source": [
    "heros.pop()"
   ]
  },
  {
   "cell_type": "code",
   "execution_count": 37,
   "id": "b445a042",
   "metadata": {},
   "outputs": [
    {
     "data": {
      "text/plain": [
       "['spider man', 'thor', 'hulk', 'iron man', 'captain america']"
      ]
     },
     "execution_count": 37,
     "metadata": {},
     "output_type": "execute_result"
    }
   ],
   "source": [
    "heros"
   ]
  },
  {
   "cell_type": "code",
   "execution_count": 38,
   "id": "75073615",
   "metadata": {},
   "outputs": [],
   "source": [
    "heros[3] = 'black panther'"
   ]
  },
  {
   "cell_type": "code",
   "execution_count": 39,
   "id": "c78e9fa3",
   "metadata": {},
   "outputs": [
    {
     "data": {
      "text/plain": [
       "['spider man', 'thor', 'hulk', 'black panther', 'captain america']"
      ]
     },
     "execution_count": 39,
     "metadata": {},
     "output_type": "execute_result"
    }
   ],
   "source": [
    "heros"
   ]
  },
  {
   "cell_type": "code",
   "execution_count": 41,
   "id": "b1527211",
   "metadata": {},
   "outputs": [],
   "source": [
    "heros.insert(4,'iron man')"
   ]
  },
  {
   "cell_type": "raw",
   "id": "027c85c2",
   "metadata": {},
   "source": [
    "heros"
   ]
  },
  {
   "cell_type": "code",
   "execution_count": 42,
   "id": "3d09bc72",
   "metadata": {},
   "outputs": [
    {
     "data": {
      "text/plain": [
       "['spider man', 'thor', 'hulk', 'black panther', 'iron man', 'captain america']"
      ]
     },
     "execution_count": 42,
     "metadata": {},
     "output_type": "execute_result"
    }
   ],
   "source": [
    "heros"
   ]
  },
  {
   "cell_type": "code",
   "execution_count": 43,
   "id": "e8c9cf7f",
   "metadata": {},
   "outputs": [
    {
     "data": {
      "text/plain": [
       "'hulk'"
      ]
     },
     "execution_count": 43,
     "metadata": {},
     "output_type": "execute_result"
    }
   ],
   "source": [
    "heros.pop(2)"
   ]
  },
  {
   "cell_type": "code",
   "execution_count": 44,
   "id": "5df4c37b",
   "metadata": {},
   "outputs": [
    {
     "data": {
      "text/plain": [
       "['spider man', 'thor', 'black panther', 'iron man', 'captain america']"
      ]
     },
     "execution_count": 44,
     "metadata": {},
     "output_type": "execute_result"
    }
   ],
   "source": [
    "heros"
   ]
  },
  {
   "cell_type": "code",
   "execution_count": 45,
   "id": "c1dd8fb6",
   "metadata": {},
   "outputs": [],
   "source": [
    "heros[1] = 'doctor strange'"
   ]
  },
  {
   "cell_type": "code",
   "execution_count": 46,
   "id": "be6536d2",
   "metadata": {},
   "outputs": [
    {
     "data": {
      "text/plain": [
       "['spider man',\n",
       " 'doctor strange',\n",
       " 'black panther',\n",
       " 'iron man',\n",
       " 'captain america']"
      ]
     },
     "execution_count": 46,
     "metadata": {},
     "output_type": "execute_result"
    }
   ],
   "source": [
    "heros"
   ]
  },
  {
   "cell_type": "code",
   "execution_count": 47,
   "id": "2c94fc73",
   "metadata": {},
   "outputs": [],
   "source": [
    "heros.sort()"
   ]
  },
  {
   "cell_type": "code",
   "execution_count": 48,
   "id": "8991f0fa",
   "metadata": {},
   "outputs": [
    {
     "data": {
      "text/plain": [
       "['black panther',\n",
       " 'captain america',\n",
       " 'doctor strange',\n",
       " 'iron man',\n",
       " 'spider man']"
      ]
     },
     "execution_count": 48,
     "metadata": {},
     "output_type": "execute_result"
    }
   ],
   "source": [
    "heros"
   ]
  },
  {
   "cell_type": "code",
   "execution_count": 49,
   "id": "c61e2766",
   "metadata": {},
   "outputs": [
    {
     "data": {
      "text/plain": [
       "['April',\n",
       " 'In',\n",
       " 'Out',\n",
       " '_',\n",
       " '_11',\n",
       " '_12',\n",
       " '_15',\n",
       " '_17',\n",
       " '_19',\n",
       " '_2',\n",
       " '_22',\n",
       " '_24',\n",
       " '_26',\n",
       " '_28',\n",
       " '_33',\n",
       " '_34',\n",
       " '_35',\n",
       " '_36',\n",
       " '_37',\n",
       " '_39',\n",
       " '_42',\n",
       " '_43',\n",
       " '_44',\n",
       " '_46',\n",
       " '_48',\n",
       " '_9',\n",
       " '__',\n",
       " '___',\n",
       " '__builtin__',\n",
       " '__builtins__',\n",
       " '__doc__',\n",
       " '__loader__',\n",
       " '__name__',\n",
       " '__package__',\n",
       " '__spec__',\n",
       " '_dh',\n",
       " '_i',\n",
       " '_i1',\n",
       " '_i10',\n",
       " '_i11',\n",
       " '_i12',\n",
       " '_i13',\n",
       " '_i14',\n",
       " '_i15',\n",
       " '_i16',\n",
       " '_i17',\n",
       " '_i18',\n",
       " '_i19',\n",
       " '_i2',\n",
       " '_i20',\n",
       " '_i21',\n",
       " '_i22',\n",
       " '_i23',\n",
       " '_i24',\n",
       " '_i25',\n",
       " '_i26',\n",
       " '_i27',\n",
       " '_i28',\n",
       " '_i29',\n",
       " '_i3',\n",
       " '_i30',\n",
       " '_i31',\n",
       " '_i32',\n",
       " '_i33',\n",
       " '_i34',\n",
       " '_i35',\n",
       " '_i36',\n",
       " '_i37',\n",
       " '_i38',\n",
       " '_i39',\n",
       " '_i4',\n",
       " '_i40',\n",
       " '_i41',\n",
       " '_i42',\n",
       " '_i43',\n",
       " '_i44',\n",
       " '_i45',\n",
       " '_i46',\n",
       " '_i47',\n",
       " '_i48',\n",
       " '_i49',\n",
       " '_i5',\n",
       " '_i6',\n",
       " '_i7',\n",
       " '_i8',\n",
       " '_i9',\n",
       " '_ih',\n",
       " '_ii',\n",
       " '_iii',\n",
       " '_oh',\n",
       " 'exit',\n",
       " 'expenses',\n",
       " 'extra',\n",
       " 'get_ipython',\n",
       " 'heros',\n",
       " 'i',\n",
       " 'quit',\n",
       " 'total']"
      ]
     },
     "execution_count": 49,
     "metadata": {},
     "output_type": "execute_result"
    }
   ],
   "source": [
    "dir()"
   ]
  },
  {
   "cell_type": "code",
   "execution_count": 56,
   "id": "5ffbf252",
   "metadata": {},
   "outputs": [
    {
     "name": "stdout",
     "output_type": "stream",
     "text": [
      "Enter a number:50\n",
      "1,3,5,7,9,11,13,15,17,19,21,23,25,27,29,31,33,35,37,39,41,43,45,47,49,"
     ]
    }
   ],
   "source": [
    "list1 = []\n",
    "n=int(input(\"Enter a number:\"))\n",
    "for i in range(1,n):\n",
    "    if i%2!=0:\n",
    "        list1.append(i)\n",
    "        print(i,end=',')"
   ]
  },
  {
   "cell_type": "code",
   "execution_count": null,
   "id": "11c6630e",
   "metadata": {},
   "outputs": [],
   "source": []
  }
 ],
 "metadata": {
  "kernelspec": {
   "display_name": "Python 3 (ipykernel)",
   "language": "python",
   "name": "python3"
  },
  "language_info": {
   "codemirror_mode": {
    "name": "ipython",
    "version": 3
   },
   "file_extension": ".py",
   "mimetype": "text/x-python",
   "name": "python",
   "nbconvert_exporter": "python",
   "pygments_lexer": "ipython3",
   "version": "3.9.12"
  }
 },
 "nbformat": 4,
 "nbformat_minor": 5
}
